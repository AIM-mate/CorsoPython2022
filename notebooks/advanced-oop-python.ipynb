{
 "cells": [
  {
   "cell_type": "markdown",
   "metadata": {},
   "source": [
    "# Magic methods"
   ]
  },
  {
   "cell_type": "code",
   "execution_count": 3,
   "metadata": {},
   "outputs": [
    {
     "data": {
      "text/plain": [
       "['__class__',\n",
       " '__delattr__',\n",
       " '__dir__',\n",
       " '__doc__',\n",
       " '__eq__',\n",
       " '__format__',\n",
       " '__ge__',\n",
       " '__getattribute__',\n",
       " '__gt__',\n",
       " '__hash__',\n",
       " '__init__',\n",
       " '__init_subclass__',\n",
       " '__le__',\n",
       " '__lt__',\n",
       " '__ne__',\n",
       " '__new__',\n",
       " '__reduce__',\n",
       " '__reduce_ex__',\n",
       " '__repr__',\n",
       " '__setattr__',\n",
       " '__sizeof__',\n",
       " '__str__',\n",
       " '__subclasshook__']"
      ]
     },
     "execution_count": 3,
     "metadata": {},
     "output_type": "execute_result"
    }
   ],
   "source": [
    "dir(object) # Access all methods and attributes in a given class\n",
    "# The methods with __ are called \"magics\"."
   ]
  },
  {
   "cell_type": "code",
   "execution_count": 4,
   "metadata": {},
   "outputs": [
    {
     "data": {
      "text/plain": [
       "['__abs__',\n",
       " '__add__',\n",
       " '__and__',\n",
       " '__bool__',\n",
       " '__ceil__',\n",
       " '__class__',\n",
       " '__delattr__',\n",
       " '__dir__',\n",
       " '__divmod__',\n",
       " '__doc__',\n",
       " '__eq__',\n",
       " '__float__',\n",
       " '__floor__',\n",
       " '__floordiv__',\n",
       " '__format__',\n",
       " '__ge__',\n",
       " '__getattribute__',\n",
       " '__getnewargs__',\n",
       " '__gt__',\n",
       " '__hash__',\n",
       " '__index__',\n",
       " '__init__',\n",
       " '__init_subclass__',\n",
       " '__int__',\n",
       " '__invert__',\n",
       " '__le__',\n",
       " '__lshift__',\n",
       " '__lt__',\n",
       " '__mod__',\n",
       " '__mul__',\n",
       " '__ne__',\n",
       " '__neg__',\n",
       " '__new__',\n",
       " '__or__',\n",
       " '__pos__',\n",
       " '__pow__',\n",
       " '__radd__',\n",
       " '__rand__',\n",
       " '__rdivmod__',\n",
       " '__reduce__',\n",
       " '__reduce_ex__',\n",
       " '__repr__',\n",
       " '__rfloordiv__',\n",
       " '__rlshift__',\n",
       " '__rmod__',\n",
       " '__rmul__',\n",
       " '__ror__',\n",
       " '__round__',\n",
       " '__rpow__',\n",
       " '__rrshift__',\n",
       " '__rshift__',\n",
       " '__rsub__',\n",
       " '__rtruediv__',\n",
       " '__rxor__',\n",
       " '__setattr__',\n",
       " '__sizeof__',\n",
       " '__str__',\n",
       " '__sub__',\n",
       " '__subclasshook__',\n",
       " '__truediv__',\n",
       " '__trunc__',\n",
       " '__xor__',\n",
       " 'as_integer_ratio',\n",
       " 'bit_length',\n",
       " 'conjugate',\n",
       " 'denominator',\n",
       " 'from_bytes',\n",
       " 'imag',\n",
       " 'numerator',\n",
       " 'real',\n",
       " 'to_bytes']"
      ]
     },
     "execution_count": 4,
     "metadata": {},
     "output_type": "execute_result"
    }
   ],
   "source": [
    "dir(int)"
   ]
  },
  {
   "cell_type": "code",
   "execution_count": 17,
   "metadata": {},
   "outputs": [
    {
     "data": {
      "text/plain": [
       "0"
      ]
     },
     "execution_count": 17,
     "metadata": {},
     "output_type": "execute_result"
    }
   ],
   "source": [
    "int(8).imag"
   ]
  },
  {
   "cell_type": "markdown",
   "metadata": {},
   "source": [
    "## Operators"
   ]
  },
  {
   "cell_type": "code",
   "execution_count": 47,
   "metadata": {},
   "outputs": [
    {
     "name": "stdout",
     "output_type": "stream",
     "text": [
      "X coord: 1, Y coord: 2\n",
      "X coord: 2, Y coord: -1\n",
      "X coord: 3, Y coord: 1\n",
      "X coord: -1, Y coord: 3\n",
      "X coord: 2, Y coord: -2\n"
     ]
    }
   ],
   "source": [
    "# what if I want to overwrite the behavior of +, - or * operators between user-defined classes?\n",
    "class Point(object):\n",
    "    def __init__(self, x, y):\n",
    "        self.x = x\n",
    "        self.y = y\n",
    "        \n",
    "    def __add__(self, point2):\n",
    "        return Point(self.x + point2.x, self.y + point2.y)\n",
    "    \n",
    "    def __sub__(self, point2):\n",
    "        return Point(self.x - point2.x, self.y - point2.y)\n",
    "    \n",
    "    def __mul__(self, point2):\n",
    "        return Point(self.x * point2.x, self.y * point2.y)\n",
    "    \n",
    "    def __repr__(self):\n",
    "        return 'X coord: {}, Y coord: {}'.format(self.x,self.y)\n",
    "    \n",
    "A = Point(1,2)\n",
    "print(A)\n",
    "B = Point(2,-1)\n",
    "print(B)\n",
    "C = A+B\n",
    "print(C)\n",
    "D = A-B\n",
    "print(D)\n",
    "E = A*B\n",
    "print(E)"
   ]
  },
  {
   "cell_type": "markdown",
   "metadata": {},
   "source": [
    "# (In)equalities"
   ]
  },
  {
   "cell_type": "code",
   "execution_count": 55,
   "metadata": {},
   "outputs": [
    {
     "name": "stdout",
     "output_type": "stream",
     "text": [
      "X coord: 1, Y coord: 2\n",
      "X coord: 2, Y coord: -1\n",
      "False\n",
      "True\n",
      "False\n",
      "False\n",
      "True\n"
     ]
    }
   ],
   "source": [
    "# what if I want to overwrite the behavior of ==, >=, <= or !=, < or > operators between user-defined classes?\n",
    "class Point(object):\n",
    "    def __init__(self, x, y):\n",
    "        self.x = x\n",
    "        self.y = y\n",
    "        \n",
    "    def __eq__(self, point2):\n",
    "        return self.x == point2.x & self.y == point2.y\n",
    "    \n",
    "    def __neq__(self, point2):\n",
    "        return self.x != point2.x | self.y != point2.y\n",
    "    \n",
    "    def __lt__(self, point2):\n",
    "        return (self.x**2 + self.y**2) < (point2.x**2 + point2.y**2)\n",
    "    \n",
    "    def __gt__(self, point2):\n",
    "        return (self.x**2 + self.y**2) > (point2.x**2 + point2.y**2)\n",
    "    \n",
    "    def __le__(self, point2):\n",
    "        return (self.x**2 + self.y**2) <= (point2.x**2 + point2.y**2)\n",
    "    \n",
    "    def __ge__(self, point2):\n",
    "        return (self.x**2 + self.y**2) >= (point2.x**2 + point2.y**2)\n",
    "    \n",
    "    def __repr__(self):\n",
    "        return 'X coord: {}, Y coord: {}'.format(self.x,self.y)\n",
    "    \n",
    "    \n",
    "A = Point(1,2)\n",
    "print(A)\n",
    "B = Point(2,-1)\n",
    "print(B)\n",
    "\n",
    "print(A==B)\n",
    "print(A!=B)\n",
    "print(A<B)\n",
    "print(A>B)\n",
    "print(A>=B) # bad practice! the == and the >=/<= takes into account different metrics (A>=B -> True while A==B -> False)"
   ]
  },
  {
   "cell_type": "markdown",
   "metadata": {},
   "source": [
    "## Indexing"
   ]
  },
  {
   "cell_type": "code",
   "execution_count": 65,
   "metadata": {},
   "outputs": [
    {
     "name": "stdout",
     "output_type": "stream",
     "text": [
      "Average Course Year: 3.5\n",
      "Number of Students: 4\n"
     ]
    }
   ],
   "source": [
    "# What if I want to treat a class as an array-like object?\n",
    "class CorsoPython:\n",
    "    def __init__(self, studenti):\n",
    "        self.studenti = studenti\n",
    "        \n",
    "    def __len__(self):\n",
    "        return len(self.studenti)\n",
    "        \n",
    "    def __contains__(self, studente):\n",
    "        return studente in self.studenti    \n",
    "        \n",
    "    def __getitem__(self, index):\n",
    "        return self.studenti[index]\n",
    "    \n",
    "    def __setitem__(self, index):\n",
    "        return self.studenti[index]\n",
    "    \n",
    "    def average_year(self):\n",
    "        return sum(m.anno_di_corso for m in self.studenti)/len(self)\n",
    "    \n",
    "    def append(self, studente):\n",
    "        self.studenti.append(studente)\n",
    "     \n",
    "           \n",
    "class Studente:\n",
    "    def __init__(self, matricola, nome, anno_di_corso):\n",
    "        self.matricola = matricola\n",
    "        self.nome = nome\n",
    "        self.anno_di_corso = anno_di_corso\n",
    "        \n",
    "    def __eq__(self, studente2):\n",
    "        return self.matricola == studente2.matricola\n",
    "    \n",
    "    def __repr__(self):\n",
    "        return '{} del {}° anno.'.format(self.nome,self.anno_di_corso)\n",
    "            \n",
    "        \n",
    "s1 = Studente('1', 'gianmarco',1)\n",
    "s2 = Studente('2', 'luca', 5)\n",
    "s3 = Studente('3', 'jeanpaul',6)\n",
    "s4 = Studente('4', 'paola',2)\n",
    "\n",
    "c = CorsoPython([s1,s2,s3])\n",
    "c.append(s4)\n",
    "print('Average Course Year: {}'.format(c.average_year()))\n",
    "\n",
    "# through the __len__ magic we can get the length\n",
    "print('Number of Students: {}'.format(len(c)))"
   ]
  },
  {
   "cell_type": "code",
   "execution_count": 66,
   "metadata": {},
   "outputs": [
    {
     "name": "stdout",
     "output_type": "stream",
     "text": [
      "True\n",
      "False\n"
     ]
    }
   ],
   "source": [
    "# through the __contains__ magic we can use the 'in' statement, this requires that the class Studente has a __eq__ magic defined\n",
    "print(s2 in c)\n",
    "print(Studente('5','giulia',5) in c)"
   ]
  },
  {
   "cell_type": "code",
   "execution_count": 67,
   "metadata": {},
   "outputs": [
    {
     "name": "stdout",
     "output_type": "stream",
     "text": [
      "jeanpaul del 6° anno.\n",
      "luca del 5° anno.\n"
     ]
    }
   ],
   "source": [
    "# through the __getitem__ magic I can access a student using indexing\n",
    "print(c[2])\n",
    "print(c[1])"
   ]
  },
  {
   "cell_type": "code",
   "execution_count": 68,
   "metadata": {},
   "outputs": [
    {
     "name": "stdout",
     "output_type": "stream",
     "text": [
      "luca del 5° anno.\n",
      "luchino del 5° anno.\n"
     ]
    }
   ],
   "source": [
    "# through the __setitem__ magic I can modify a student's data\n",
    "print(c[1])\n",
    "c[1].nome = 'luchino'\n",
    "print(c[1])"
   ]
  },
  {
   "cell_type": "markdown",
   "metadata": {},
   "source": [
    "## Callable Objects"
   ]
  },
  {
   "cell_type": "code",
   "execution_count": 89,
   "metadata": {},
   "outputs": [
    {
     "name": "stdout",
     "output_type": "stream",
     "text": [
      "Temperature converter, support mods: ['celsius', 'fahrenheit', 'kelvin']\n",
      "Current mod: celsius_to_fahrenheit\n",
      "32.0\n",
      "273.15\n",
      "80.33000000000004\n"
     ]
    }
   ],
   "source": [
    "# The __call__ magics allow us to use an object as a function\n",
    "class TemperatureConverter:\n",
    "    def __init__(self):\n",
    "        self.__mod='celsius_to_fahrenheit'\n",
    "        self.mod_list = ['celsius','fahrenheit','kelvin']\n",
    "        \n",
    "    def __repr__(self):\n",
    "        return 'Temperature converter, support mods: {}'.format(self.mod_list)\n",
    "    \n",
    "    def __call__(self, val):\n",
    "        if self.__mod=='celsius_to_fahrenheit':\n",
    "            return val*1.8+32\n",
    "        elif self.__mod=='fahrenheit_to_celsius':\n",
    "            return (val-32)/1.8\n",
    "        elif self.__mod=='celsius_to_kelvin':\n",
    "            return val+273.15\n",
    "        elif self.__mod=='kelvin_to_celsius':\n",
    "            return val-273.15\n",
    "        elif self.__mod=='fahrenheit_to_kelvin':\n",
    "            return (val-32)/1.8+273.15\n",
    "        elif self.__mod=='kelvin_to_fahrenheit':\n",
    "            return (val-273.15)*1.8+32\n",
    "        else:\n",
    "            raise ValueError('No valid mod.')\n",
    "            \n",
    "    def change_mod(self, mod1, mod2):\n",
    "        if mod1 in self.mod_list and mod2 in self.mod_list:\n",
    "            self.__mod = mod1+'_to_'+mod2\n",
    "        else:\n",
    "            raise ValueError('No valid mod.')\n",
    "    \n",
    "    def current_mod(self):\n",
    "        return self.__mod\n",
    "            \n",
    "t = TemperatureConverter()\n",
    "print(t)\n",
    "print('Current mod: {}'.format(t.current_mod()))\n",
    "\n",
    "print(t(0))\n",
    "t.change_mod('celsius','kelvin')\n",
    "print(t(0))\n",
    "t.change_mod('kelvin','fahrenheit')\n",
    "print(t(300))"
   ]
  },
  {
   "cell_type": "markdown",
   "metadata": {},
   "source": [
    "## Chaining"
   ]
  },
  {
   "cell_type": "code",
   "execution_count": 90,
   "metadata": {},
   "outputs": [
    {
     "ename": "TypeError",
     "evalue": "'NoneType' object is not callable",
     "output_type": "error",
     "traceback": [
      "\u001b[1;31m---------------------------------------------------------------------------\u001b[0m",
      "\u001b[1;31mTypeError\u001b[0m                                 Traceback (most recent call last)",
      "\u001b[1;32m<ipython-input-90-1534516ca3fb>\u001b[0m in \u001b[0;36m<module>\u001b[1;34m\u001b[0m\n\u001b[0;32m      1\u001b[0m \u001b[1;31m# why I'm not allowed to do this?\u001b[0m\u001b[1;33m\u001b[0m\u001b[1;33m\u001b[0m\u001b[1;33m\u001b[0m\u001b[0m\n\u001b[1;32m----> 2\u001b[1;33m \u001b[0mt\u001b[0m\u001b[1;33m.\u001b[0m\u001b[0mchange_mod\u001b[0m\u001b[1;33m(\u001b[0m\u001b[1;34m'celsius'\u001b[0m\u001b[1;33m,\u001b[0m\u001b[1;34m'kelvin'\u001b[0m\u001b[1;33m)\u001b[0m\u001b[1;33m(\u001b[0m\u001b[1;36m0\u001b[0m\u001b[1;33m)\u001b[0m\u001b[1;33m\u001b[0m\u001b[1;33m\u001b[0m\u001b[0m\n\u001b[0m",
      "\u001b[1;31mTypeError\u001b[0m: 'NoneType' object is not callable"
     ]
    }
   ],
   "source": [
    "# why I'm not allowed to do this?\n",
    "t.change_mod('celsius','kelvin')(0)"
   ]
  },
  {
   "cell_type": "code",
   "execution_count": 94,
   "metadata": {},
   "outputs": [
    {
     "name": "stdout",
     "output_type": "stream",
     "text": [
      "273.15\n",
      "32.0\n",
      "273.15\n",
      "fahrenheit_to_kelvin\n"
     ]
    }
   ],
   "source": [
    "# SOLUTION: put a 'return self' statement at the end of the change_mod method\n",
    "class TemperatureConverter:\n",
    "    def __init__(self):\n",
    "        self.__mod='celsius_to_fahrenheit'\n",
    "        self.mod_list = ['celsius','fahrenheit','kelvin']\n",
    "        \n",
    "    def __repr__(self):\n",
    "        return 'Temperature converter, support mods: {}'.format(self.mod_list)\n",
    "    \n",
    "    def __call__(self, val):\n",
    "        if self.__mod=='celsius_to_fahrenheit':\n",
    "            return val*1.8+32\n",
    "        elif self.__mod=='fahrenheit_to_celsius':\n",
    "            return (val-32)/1.8\n",
    "        elif self.__mod=='celsius_to_kelvin':\n",
    "            return val+273.15\n",
    "        elif self.__mod=='kelvin_to_celsius':\n",
    "            return val-273.15\n",
    "        elif self.__mod=='fahrenheit_to_kelvin':\n",
    "            return (val-32)/1.8+273.15\n",
    "        elif self.__mod=='kelvin_to_fahrenheit':\n",
    "            return (val-273.15)*1.8+32\n",
    "        else:\n",
    "            raise ValueError('No valid mod.')\n",
    "            \n",
    "    def change_mod(self, mod1, mod2):\n",
    "        if mod1 in self.mod_list and mod2 in self.mod_list:\n",
    "            self.__mod = mod1+'_to_'+mod2\n",
    "        else:\n",
    "            raise ValueError('No valid mod.')\n",
    "        return self\n",
    "    \n",
    "    def current_mod(self):\n",
    "        return self.__mod\n",
    "    \n",
    "    \n",
    "t = TemperatureConverter()\n",
    "print(t.change_mod('celsius','kelvin')(0))\n",
    "print(t.change_mod('celsius','fahrenheit')(0))\n",
    "print(t.change_mod('fahrenheit','kelvin')(32))\n",
    "print(t.change_mod('fahrenheit','kelvin').current_mod())"
   ]
  },
  {
   "cell_type": "markdown",
   "metadata": {},
   "source": [
    "# Advanced Python Techniques"
   ]
  },
  {
   "cell_type": "markdown",
   "metadata": {},
   "source": [
    "## Iterators"
   ]
  },
  {
   "cell_type": "code",
   "execution_count": 2,
   "metadata": {},
   "outputs": [
    {
     "name": "stdout",
     "output_type": "stream",
     "text": [
      "Analisi I\n",
      "Analisi II\n",
      "Analisi III\n",
      "Analisi Reale e Funzionale\n"
     ]
    },
    {
     "ename": "StopIteration",
     "evalue": "",
     "output_type": "error",
     "traceback": [
      "\u001b[1;31m---------------------------------------------------------------------------\u001b[0m",
      "\u001b[1;31mStopIteration\u001b[0m                             Traceback (most recent call last)",
      "\u001b[1;32m<ipython-input-2-61b44ca7184d>\u001b[0m in \u001b[0;36m<module>\u001b[1;34m\u001b[0m\n\u001b[0;32m      5\u001b[0m \u001b[0mprint\u001b[0m\u001b[1;33m(\u001b[0m\u001b[0mnext\u001b[0m\u001b[1;33m(\u001b[0m\u001b[0mcourses\u001b[0m\u001b[1;33m)\u001b[0m\u001b[1;33m)\u001b[0m\u001b[1;33m\u001b[0m\u001b[1;33m\u001b[0m\u001b[0m\n\u001b[0;32m      6\u001b[0m \u001b[0mprint\u001b[0m\u001b[1;33m(\u001b[0m\u001b[0mnext\u001b[0m\u001b[1;33m(\u001b[0m\u001b[0mcourses\u001b[0m\u001b[1;33m)\u001b[0m\u001b[1;33m)\u001b[0m\u001b[1;33m\u001b[0m\u001b[1;33m\u001b[0m\u001b[0m\n\u001b[1;32m----> 7\u001b[1;33m \u001b[0mprint\u001b[0m\u001b[1;33m(\u001b[0m\u001b[0mnext\u001b[0m\u001b[1;33m(\u001b[0m\u001b[0mcourses\u001b[0m\u001b[1;33m)\u001b[0m\u001b[1;33m)\u001b[0m \u001b[1;31m# <- I finished the list! So I get error\u001b[0m\u001b[1;33m\u001b[0m\u001b[1;33m\u001b[0m\u001b[0m\n\u001b[0m",
      "\u001b[1;31mStopIteration\u001b[0m: "
     ]
    }
   ],
   "source": [
    "# next() method in python allow us to iterate on an iterable object (defined using iter() method)\n",
    "courses = iter(['Analisi I','Analisi II','Analisi III','Analisi Reale e Funzionale'])\n",
    "print(next(courses))\n",
    "print(next(courses))\n",
    "print(next(courses))\n",
    "print(next(courses))\n",
    "print(next(courses)) # <- I finished the list! So I get error"
   ]
  },
  {
   "cell_type": "code",
   "execution_count": 3,
   "metadata": {},
   "outputs": [
    {
     "name": "stdout",
     "output_type": "stream",
     "text": [
      "Fisica I\n",
      "Fisica II\n"
     ]
    }
   ],
   "source": [
    "# An iterable object is an object that include the method __next__(), calling next() on an object is equal to call .__next__()\n",
    "courses = iter(['Fisica I','Fisica II','Elettronica','Termodinamica'])\n",
    "print(next(courses))\n",
    "print(courses.__next__())"
   ]
  },
  {
   "cell_type": "code",
   "execution_count": 4,
   "metadata": {},
   "outputs": [
    {
     "name": "stdout",
     "output_type": "stream",
     "text": [
      "Fisica I\n",
      "Fisica II\n",
      "Elettronica\n",
      "Termodinamica\n",
      "\n",
      "\n",
      "Fisica I\n",
      "Fisica II\n",
      "Elettronica\n",
      "Termodinamica\n"
     ]
    }
   ],
   "source": [
    "# Using the for loop is equal as repeatedly calling next(), but it avoids the error when trying to move past the last element\n",
    "courses = ['Fisica I','Fisica II','Elettronica','Termodinamica']\n",
    "for c in courses: # the for loop automatically converts the object into an iterable\n",
    "    print(c)\n",
    "    \n",
    "print('\\n')\n",
    "# this is equal to\n",
    "# create an iterator object from that iterable\n",
    "iter_obj = iter(courses)\n",
    "\n",
    "# infinite loop\n",
    "while True:\n",
    "    try:\n",
    "        # get the next item\n",
    "        c = next(iter_obj)\n",
    "        print(c)\n",
    "        # do something with element\n",
    "    except:\n",
    "        # if an error is raised, break from loop\n",
    "        break"
   ]
  },
  {
   "cell_type": "code",
   "execution_count": 5,
   "metadata": {},
   "outputs": [
    {
     "name": "stdout",
     "output_type": "stream",
     "text": [
      "0\n",
      "8\n",
      "16\n",
      "24\n",
      "32\n",
      "40\n",
      "48\n",
      "56\n",
      "64\n",
      "72\n",
      "80\n",
      "\n",
      "\n",
      "0\n",
      "17\n",
      "34\n"
     ]
    }
   ],
   "source": [
    "# We can create custom iterators, like one iterating over multiples of a number.\n",
    "class multiples(object):\n",
    "    ''' Iterator returning all the multiples\n",
    "    of a given number in order.'''\n",
    "    def __init__(self, base):\n",
    "        self.base = base\n",
    "        self.maxit = 1e+1\n",
    "        \n",
    "    def __iter__(self):\n",
    "        self.n = 0\n",
    "        return self\n",
    "    \n",
    "    def __next__(self):\n",
    "        if self.n <= self.maxit:\n",
    "            result = self.n*self.base\n",
    "            self.n += 1\n",
    "            return result\n",
    "        else:\n",
    "            raise StopIteration # Python allows user to raise errors\n",
    "            \n",
    "for i in multiples(8):\n",
    "    print(i)\n",
    "    \n",
    "print('\\n')\n",
    "# alternatively\n",
    "\n",
    "mult = iter(multiples(17))\n",
    "print(next(mult))\n",
    "print(next(mult))\n",
    "print(next(mult))\n",
    "#..."
   ]
  },
  {
   "cell_type": "markdown",
   "metadata": {},
   "source": [
    "## Generators"
   ]
  },
  {
   "cell_type": "code",
   "execution_count": 8,
   "metadata": {},
   "outputs": [
    {
     "name": "stdout",
     "output_type": "stream",
     "text": [
      "<generator object my_gen at 0x000002234EC08820>\n",
      "This is printed first\n",
      "1\n",
      "This is printed second\n",
      "2\n",
      "This is printed at last\n",
      "3\n"
     ]
    },
    {
     "ename": "StopIteration",
     "evalue": "",
     "output_type": "error",
     "traceback": [
      "\u001b[1;31m---------------------------------------------------------------------------\u001b[0m",
      "\u001b[1;31mStopIteration\u001b[0m                             Traceback (most recent call last)",
      "\u001b[1;32m<ipython-input-8-7cb2d20e683b>\u001b[0m in \u001b[0;36m<module>\u001b[1;34m\u001b[0m\n\u001b[0;32m     20\u001b[0m \u001b[0mprint\u001b[0m\u001b[1;33m(\u001b[0m\u001b[0mnext\u001b[0m\u001b[1;33m(\u001b[0m\u001b[0mgen\u001b[0m\u001b[1;33m)\u001b[0m\u001b[1;33m)\u001b[0m\u001b[1;33m\u001b[0m\u001b[1;33m\u001b[0m\u001b[0m\n\u001b[0;32m     21\u001b[0m \u001b[0mprint\u001b[0m\u001b[1;33m(\u001b[0m\u001b[0mnext\u001b[0m\u001b[1;33m(\u001b[0m\u001b[0mgen\u001b[0m\u001b[1;33m)\u001b[0m\u001b[1;33m)\u001b[0m\u001b[1;33m\u001b[0m\u001b[1;33m\u001b[0m\u001b[0m\n\u001b[1;32m---> 22\u001b[1;33m \u001b[0mprint\u001b[0m\u001b[1;33m(\u001b[0m\u001b[0mnext\u001b[0m\u001b[1;33m(\u001b[0m\u001b[0mgen\u001b[0m\u001b[1;33m)\u001b[0m\u001b[1;33m)\u001b[0m \u001b[1;31m# It raises the same StopIteration errors as iterators\u001b[0m\u001b[1;33m\u001b[0m\u001b[1;33m\u001b[0m\u001b[0m\n\u001b[0m",
      "\u001b[1;31mStopIteration\u001b[0m: "
     ]
    }
   ],
   "source": [
    "# A generator is a function that returns an object (iterator) which we can iterate over (one value at a time).\n",
    "# It's a simpler way to define a custom iteration.\n",
    "def my_gen():\n",
    "    n = 1\n",
    "    print('This is printed first')\n",
    "    # Generator function contains yield statements\n",
    "    yield n \n",
    "\n",
    "    n += 1\n",
    "    print('This is printed second')\n",
    "    yield n\n",
    "\n",
    "    n += 1\n",
    "    print('This is printed at last')\n",
    "    yield n\n",
    "    \n",
    "gen = my_gen() # no iter statement is required\n",
    "print(my_gen())\n",
    "print(next(gen)) # each time I call next on a generator instance I move to the next yield statement\n",
    "print(next(gen))\n",
    "print(next(gen))\n",
    "print(next(gen)) # It raises the same StopIteration errors as iterators"
   ]
  },
  {
   "cell_type": "code",
   "execution_count": 30,
   "metadata": {},
   "outputs": [
    {
     "name": "stdout",
     "output_type": "stream",
     "text": [
      "0\n",
      "17\n",
      "34\n",
      "51\n",
      "68\n",
      "85\n",
      "102\n",
      "119\n",
      "136\n",
      "153\n",
      "\n",
      "\n",
      "17\n",
      "34\n",
      "51\n",
      "68\n",
      "85\n",
      "102\n",
      "119\n",
      "136\n",
      "153\n",
      "170\n"
     ]
    }
   ],
   "source": [
    "def multiples(base):\n",
    "    for i in range(10):\n",
    "        yield i*base   \n",
    "\n",
    "# For loop to compute multiples\n",
    "for i in multiples(17):\n",
    "    print(i)\n",
    "    \n",
    "# they can be used to handle infinite sequence of data (otherwise not manageable by memory)\n",
    "def multiples(base):\n",
    "    i=0\n",
    "    while True:\n",
    "        i+=1\n",
    "        yield i*base   \n",
    "\n",
    "print('\\n')\n",
    "# For loop to compute multiples\n",
    "mult = multiples(17)\n",
    "for i in range(10):\n",
    "    print(next(mult))"
   ]
  },
  {
   "cell_type": "markdown",
   "metadata": {},
   "source": [
    "### Generators vs List Comprehension"
   ]
  },
  {
   "cell_type": "code",
   "execution_count": 24,
   "metadata": {},
   "outputs": [
    {
     "name": "stdout",
     "output_type": "stream",
     "text": [
      "1\n",
      "4\n",
      "9\n",
      "16\n",
      "25\n"
     ]
    }
   ],
   "source": [
    "# I want to obtain the list with the squares of the elements of my_list\n",
    "my_list = [1,2,3,4,5]\n",
    "\n",
    "# List comprehension\n",
    "squared1 = [n**2 for n in my_list] # This immediately allocates squared1 in memory\n",
    "\n",
    "# Generator\n",
    "squared2 = (n**2 for n in my_list) # This approach is lazy: we do not allocate values in memory now, they are generated at runtime\n",
    "\n",
    "print(next(squared2))\n",
    "print(next(squared2))\n",
    "print(next(squared2))\n",
    "print(next(squared2))\n",
    "print(next(squared2))\n",
    "\n",
    "# generator approach is more memory efficient than list comprehension"
   ]
  },
  {
   "cell_type": "code",
   "execution_count": 25,
   "metadata": {},
   "outputs": [
    {
     "data": {
      "text/plain": [
       "(25, 55)"
      ]
     },
     "execution_count": 25,
     "metadata": {},
     "output_type": "execute_result"
    }
   ],
   "source": [
    "# they can be used as a function argument\n",
    "max(n**2 for n in my_list), sum(n**2 for n in my_list)\n",
    "# and they can be pipelined\n",
    "print(sum(n**2 for n in my_list))"
   ]
  },
  {
   "cell_type": "markdown",
   "metadata": {},
   "source": [
    "## Decorators"
   ]
  },
  {
   "cell_type": "code",
   "execution_count": 96,
   "metadata": {},
   "outputs": [
    {
     "data": {
      "text/plain": [
       "200"
      ]
     },
     "execution_count": 96,
     "metadata": {},
     "output_type": "execute_result"
    }
   ],
   "source": [
    "# Some functions take as an input other functions (higher order functions)\n",
    "def double(x):\n",
    "    return x*2\n",
    "\n",
    "def op(func, x):\n",
    "    result = func(x)\n",
    "    return result\n",
    "\n",
    "op(double, 100)"
   ]
  },
  {
   "cell_type": "code",
   "execution_count": 99,
   "metadata": {},
   "outputs": [
    {
     "name": "stdout",
     "output_type": "stream",
     "text": [
      "Ciao!\n"
     ]
    }
   ],
   "source": [
    "# A function can return another function as output\n",
    "def wrap():\n",
    "    def saluto():\n",
    "        print(\"Ciao!\")\n",
    "    return saluto\n",
    "\n",
    "\n",
    "x = wrap()\n",
    "x()"
   ]
  },
  {
   "cell_type": "code",
   "execution_count": 104,
   "metadata": {},
   "outputs": [
    {
     "name": "stdout",
     "output_type": "stream",
     "text": [
      "I am ordinary\n",
      "\n",
      "\n",
      "I got decorated\n",
      "I am ordinary\n"
     ]
    }
   ],
   "source": [
    "# A decorator takes in a function, adds some functionality and returns it\n",
    "def make_pretty(func):\n",
    "    def inner():\n",
    "        print(\"I got decorated\")\n",
    "        func()\n",
    "    return inner\n",
    "\n",
    "\n",
    "def ordinary():\n",
    "    print(\"I am ordinary\")\n",
    "    \n",
    "ordinary()\n",
    "print('\\n')\n",
    "pretty = make_pretty(ordinary)\n",
    "pretty()"
   ]
  },
  {
   "cell_type": "code",
   "execution_count": 107,
   "metadata": {},
   "outputs": [
    {
     "name": "stdout",
     "output_type": "stream",
     "text": [
      "I got decorated\n",
      "I am ordinary\n",
      "I got decorated\n",
      "I am ordinary\n"
     ]
    }
   ],
   "source": [
    "def ordinary():\n",
    "    print(\"I am ordinary\")\n",
    "ordinary = make_pretty(ordinary)\n",
    "ordinary()\n",
    "\n",
    "# is equivalent to\n",
    "\n",
    "@make_pretty # this construct is a decorator\n",
    "def ordinary():\n",
    "    print(\"I am ordinary\")\n",
    "ordinary()"
   ]
  },
  {
   "cell_type": "markdown",
   "metadata": {},
   "source": [
    "### Chained Decorators"
   ]
  },
  {
   "cell_type": "code",
   "execution_count": 110,
   "metadata": {},
   "outputs": [
    {
     "name": "stdout",
     "output_type": "stream",
     "text": [
      "I got decorated\n",
      "I got more decorated\n",
      "I am ordinary\n"
     ]
    }
   ],
   "source": [
    "# decorators can be chained\n",
    "def make_more_pretty(func):\n",
    "    def inner():\n",
    "        print(\"I got more decorated\")\n",
    "        func()\n",
    "    return inner\n",
    "\n",
    "@make_pretty\n",
    "@make_more_pretty\n",
    "def ordinary():\n",
    "    print(\"I am ordinary\")\n",
    "ordinary()"
   ]
  },
  {
   "cell_type": "markdown",
   "metadata": {},
   "source": [
    "### Error Management with Decorators"
   ]
  },
  {
   "cell_type": "code",
   "execution_count": 117,
   "metadata": {},
   "outputs": [
    {
     "name": "stdout",
     "output_type": "stream",
     "text": [
      "-272.15\n",
      "Kelvin value is not allowed to be negative.\n"
     ]
    }
   ],
   "source": [
    "# Decorators can be useful for various tasks, including error management\n",
    "def manage_exception(func):\n",
    "    def inner(val):\n",
    "        if val < 0:\n",
    "            print(\"Kelvin value is not allowed to be negative.\")\n",
    "            return\n",
    "\n",
    "        return func(val)\n",
    "    return inner\n",
    "\n",
    "\n",
    "@manage_exception\n",
    "def convert_kelvin_to_celsius(val):\n",
    "    return val-273.15\n",
    "\n",
    "print(convert_kelvin_to_celsius(1))\n",
    "convert_kelvin_to_celsius(-1)"
   ]
  }
 ],
 "metadata": {
  "hide_input": false,
  "kernelspec": {
   "display_name": "Python 3",
   "language": "python",
   "name": "python3"
  },
  "language_info": {
   "codemirror_mode": {
    "name": "ipython",
    "version": 3
   },
   "file_extension": ".py",
   "mimetype": "text/x-python",
   "name": "python",
   "nbconvert_exporter": "python",
   "pygments_lexer": "ipython3",
   "version": "3.8.6"
  },
  "toc": {
   "base_numbering": 1,
   "nav_menu": {},
   "number_sections": true,
   "sideBar": false,
   "skip_h1_title": false,
   "title_cell": "Table of Contents",
   "title_sidebar": "Contents",
   "toc_cell": false,
   "toc_position": {},
   "toc_section_display": true,
   "toc_window_display": false
  }
 },
 "nbformat": 4,
 "nbformat_minor": 4
}
